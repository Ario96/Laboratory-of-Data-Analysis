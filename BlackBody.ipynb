{
 "cells": [
  {
   "cell_type": "code",
   "execution_count": 17,
   "id": "ce9dba54",
   "metadata": {},
   "outputs": [],
   "source": [
    "import numpy as np\n",
    "import matplotlib.pyplot as plt"
   ]
  },
  {
   "cell_type": "code",
   "execution_count": 15,
   "id": "1b377670",
   "metadata": {},
   "outputs": [
    {
     "name": "stdout",
     "output_type": "stream",
     "text": [
      "[1.000e-01 1.010e+01 2.010e+01 3.010e+01 4.010e+01 5.010e+01 6.010e+01\n",
      " 7.010e+01 8.010e+01 9.010e+01 1.001e+02 1.101e+02 1.201e+02 1.301e+02\n",
      " 1.401e+02 1.501e+02 1.601e+02 1.701e+02 1.801e+02 1.901e+02]\n"
     ]
    }
   ],
   "source": [
    "# Integrated IMF \n",
    "def imf (M_1, M_2):\n",
    "    N = (M_1**(-1.35)- M_2**(-1.35))/(1.35)\n",
    "    return N\n",
    "\n",
    "mass_sol = 2 * 10**33 # g\n",
    "masses_unif = np.arange(0.1, 200.1, 10 )\n",
    "\n",
    "masses = np.arange(0.1, 200.1, 10)\n",
    "    \n",
    "print(masses)\n",
    "    "
   ]
  },
  {
   "cell_type": "markdown",
   "id": "fdb0af00",
   "metadata": {},
   "source": [
    "Assuming only PP chain and MS stars, so $L \\propto M^{-2}$"
   ]
  },
  {
   "cell_type": "code",
   "execution_count": null,
   "id": "22adc2d3",
   "metadata": {},
   "outputs": [],
   "source": [
    "from astropy.modeling.models import BlackBody\n",
    "\n",
    "def blackbody(age_gal):\n",
    "    for i in range(0:len(masses)):\n",
    "        age_mas = 1/masses[i]**2\n",
    "    \n",
    "    \n"
   ]
  }
 ],
 "metadata": {
  "kernelspec": {
   "display_name": "Python 3 (ipykernel)",
   "language": "python",
   "name": "python3"
  },
  "language_info": {
   "codemirror_mode": {
    "name": "ipython",
    "version": 3
   },
   "file_extension": ".py",
   "mimetype": "text/x-python",
   "name": "python",
   "nbconvert_exporter": "python",
   "pygments_lexer": "ipython3",
   "version": "3.9.13"
  }
 },
 "nbformat": 4,
 "nbformat_minor": 5
}
